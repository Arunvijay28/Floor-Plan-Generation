{
  "nbformat": 4,
  "nbformat_minor": 0,
  "metadata": {
    "colab": {
      "provenance": []
    },
    "kernelspec": {
      "name": "python3",
      "display_name": "Python 3"
    },
    "language_info": {
      "name": "python"
    }
  },
  "cells": [
    {
      "cell_type": "code",
      "execution_count": 3,
      "metadata": {
        "colab": {
          "base_uri": "https://localhost:8080/"
        },
        "id": "SCAv9WttwwJV",
        "outputId": "76b63f80-4bda-421f-9d18-b03a758cf151"
      },
      "outputs": [
        {
          "output_type": "stream",
          "name": "stdout",
          "text": [
            "Collecting faiss-cpu\n",
            "  Downloading faiss_cpu-1.9.0-cp310-cp310-manylinux_2_17_x86_64.manylinux2014_x86_64.whl.metadata (4.4 kB)\n",
            "Requirement already satisfied: transformers in /usr/local/lib/python3.10/dist-packages (4.44.2)\n",
            "Requirement already satisfied: torch in /usr/local/lib/python3.10/dist-packages (2.5.0+cu121)\n",
            "Requirement already satisfied: torchvision in /usr/local/lib/python3.10/dist-packages (0.20.0+cu121)\n",
            "Requirement already satisfied: numpy<3.0,>=1.25.0 in /usr/local/lib/python3.10/dist-packages (from faiss-cpu) (1.26.4)\n",
            "Requirement already satisfied: packaging in /usr/local/lib/python3.10/dist-packages (from faiss-cpu) (24.1)\n",
            "Requirement already satisfied: filelock in /usr/local/lib/python3.10/dist-packages (from transformers) (3.16.1)\n",
            "Requirement already satisfied: huggingface-hub<1.0,>=0.23.2 in /usr/local/lib/python3.10/dist-packages (from transformers) (0.24.7)\n",
            "Requirement already satisfied: pyyaml>=5.1 in /usr/local/lib/python3.10/dist-packages (from transformers) (6.0.2)\n",
            "Requirement already satisfied: regex!=2019.12.17 in /usr/local/lib/python3.10/dist-packages (from transformers) (2024.9.11)\n",
            "Requirement already satisfied: requests in /usr/local/lib/python3.10/dist-packages (from transformers) (2.32.3)\n",
            "Requirement already satisfied: safetensors>=0.4.1 in /usr/local/lib/python3.10/dist-packages (from transformers) (0.4.5)\n",
            "Requirement already satisfied: tokenizers<0.20,>=0.19 in /usr/local/lib/python3.10/dist-packages (from transformers) (0.19.1)\n",
            "Requirement already satisfied: tqdm>=4.27 in /usr/local/lib/python3.10/dist-packages (from transformers) (4.66.5)\n",
            "Requirement already satisfied: typing-extensions>=4.8.0 in /usr/local/lib/python3.10/dist-packages (from torch) (4.12.2)\n",
            "Requirement already satisfied: networkx in /usr/local/lib/python3.10/dist-packages (from torch) (3.4.2)\n",
            "Requirement already satisfied: jinja2 in /usr/local/lib/python3.10/dist-packages (from torch) (3.1.4)\n",
            "Requirement already satisfied: fsspec in /usr/local/lib/python3.10/dist-packages (from torch) (2024.6.1)\n",
            "Requirement already satisfied: sympy==1.13.1 in /usr/local/lib/python3.10/dist-packages (from torch) (1.13.1)\n",
            "Requirement already satisfied: mpmath<1.4,>=1.1.0 in /usr/local/lib/python3.10/dist-packages (from sympy==1.13.1->torch) (1.3.0)\n",
            "Requirement already satisfied: pillow!=8.3.*,>=5.3.0 in /usr/local/lib/python3.10/dist-packages (from torchvision) (10.4.0)\n",
            "Requirement already satisfied: MarkupSafe>=2.0 in /usr/local/lib/python3.10/dist-packages (from jinja2->torch) (3.0.2)\n",
            "Requirement already satisfied: charset-normalizer<4,>=2 in /usr/local/lib/python3.10/dist-packages (from requests->transformers) (3.4.0)\n",
            "Requirement already satisfied: idna<4,>=2.5 in /usr/local/lib/python3.10/dist-packages (from requests->transformers) (3.10)\n",
            "Requirement already satisfied: urllib3<3,>=1.21.1 in /usr/local/lib/python3.10/dist-packages (from requests->transformers) (2.2.3)\n",
            "Requirement already satisfied: certifi>=2017.4.17 in /usr/local/lib/python3.10/dist-packages (from requests->transformers) (2024.8.30)\n",
            "Downloading faiss_cpu-1.9.0-cp310-cp310-manylinux_2_17_x86_64.manylinux2014_x86_64.whl (27.5 MB)\n",
            "\u001b[2K   \u001b[90m━━━━━━━━━━━━━━━━━━━━━━━━━━━━━━━━━━━━━━━━\u001b[0m \u001b[32m27.5/27.5 MB\u001b[0m \u001b[31m37.9 MB/s\u001b[0m eta \u001b[36m0:00:00\u001b[0m\n",
            "\u001b[?25hInstalling collected packages: faiss-cpu\n",
            "Successfully installed faiss-cpu-1.9.0\n"
          ]
        }
      ],
      "source": [
        "pip install faiss-cpu transformers torch torchvision\n"
      ]
    },
    {
      "cell_type": "code",
      "source": [
        "from google.colab import drive\n",
        "drive.mount('/content/drive')"
      ],
      "metadata": {
        "colab": {
          "base_uri": "https://localhost:8080/"
        },
        "id": "4GrSWqQLyh1D",
        "outputId": "38a25b1c-1d6f-4c12-fa5a-0c43ef4bdf35"
      },
      "execution_count": null,
      "outputs": [
        {
          "output_type": "stream",
          "name": "stdout",
          "text": [
            "Mounted at /content/drive\n"
          ]
        }
      ]
    },
    {
      "cell_type": "code",
      "source": [
        "import faiss\n",
        "import torch\n",
        "import json\n",
        "from transformers import AutoTokenizer, AutoModel\n",
        "from torchvision import models, transforms\n",
        "from PIL import Image\n",
        "import numpy as np\n",
        "import os\n",
        "import pickle\n",
        "from IPython.display import display"
      ],
      "metadata": {
        "id": "cZLsXVTG1L4A"
      },
      "execution_count": 4,
      "outputs": []
    },
    {
      "cell_type": "code",
      "source": [
        "image_dir='/content/drive/MyDrive/tell2design/trained_floorplan_images'\n",
        "json_path='/content/drive/MyDrive/tell2design/json/descriptions.json'\n",
        "for_displaying_image='/content/drive/MyDrive/tell2design'"
      ],
      "metadata": {
        "id": "M-ufOat1DTh8"
      },
      "execution_count": 14,
      "outputs": []
    },
    {
      "cell_type": "code",
      "source": [
        "faiss_index_path = \"/content/drive/MyDrive/tell2design/model/floorplan_text_faiss.index\"\n",
        "metadata_path = \"/content/drive/MyDrive/tell2design/model/metadata.pth\""
      ],
      "metadata": {
        "id": "dmu1YDY3fzWs"
      },
      "execution_count": 7,
      "outputs": []
    },
    {
      "cell_type": "markdown",
      "source": [
        "<h1>To create a model with images and its corresponding text</h1>"
      ],
      "metadata": {
        "id": "ekiJU8TamFRT"
      }
    },
    {
      "cell_type": "code",
      "source": [
        "# Initialize models\n",
        "image_model = models.resnet50(pretrained=True)\n",
        "image_model.eval()\n",
        "text_model = AutoModel.from_pretrained(\"sentence-transformers/all-MiniLM-L6-v2\")\n",
        "tokenizer = AutoTokenizer.from_pretrained(\"sentence-transformers/all-MiniLM-L6-v2\")\n",
        "\n",
        "# Define transform for image preprocessing\n",
        "image_transform = transforms.Compose([\n",
        "    transforms.Resize((224, 224)),\n",
        "    transforms.ToTensor(),\n",
        "    transforms.Normalize(mean=[0.485, 0.456, 0.406], std=[0.229, 0.224, 0.225]),\n",
        "])\n",
        "\n",
        "# Paths to data\n",
        "image_dir = \"D:/Arun/SSN/FYP/Tell2Design_Data/Tell2Design_Data/General_Data/trained_floorplan_images\"\n",
        "json_path = \"D:/Arun/SSN/FYP/Tell2Design_Data/Tell2Design_Data/General_Data/descriptions.json\"\n",
        "\n",
        "# Text embedding dimension and index initialization\n",
        "text_dim = 384  # Output dimension of Sentence-BERT for text\n",
        "index = faiss.IndexFlatL2(text_dim)  # Using L2 distance metric for text embeddings\n",
        "metadata = {}  # Dictionary to map Faiss indices to image paths\n",
        "\n",
        "# Load JSON data with specified encoding\n",
        "with open(json_path, \"r\", encoding=\"utf-8\") as f:\n",
        "    data = json.load(f)\n",
        "\n",
        "# Process each entry in the JSON file and store embeddings\n",
        "for entry in data:\n",
        "    filename = entry[\"filename\"]\n",
        "    description = entry[\"description\"]\n",
        "    image_path = os.path.join(image_dir, filename)\n",
        "\n",
        "    # Check if the image file exists\n",
        "    if not os.path.exists(image_path):\n",
        "        print(f\"Image file {filename} not found. Skipping.\")\n",
        "        continue\n",
        "\n",
        "    # Process text embedding with truncation to max length\n",
        "    inputs = tokenizer(description, return_tensors=\"pt\", max_length=512, truncation=True)\n",
        "    with torch.no_grad():\n",
        "        text_embedding = text_model(**inputs).last_hidden_state.mean(dim=1).squeeze().numpy()  # Shape: (384,)\n",
        "\n",
        "    # Add text embedding to Faiss index and map to image path in metadata\n",
        "    index.add(text_embedding.reshape(1, -1))\n",
        "    metadata[len(metadata)] = image_path\n",
        "\n",
        "# Save the Faiss index and metadata\n",
        "faiss.write_index(index, \"floorplan_text_faiss.index\")\n",
        "torch.save(metadata, \"metadata.pth\")\n",
        "print(\"Indexing completed and saved.\")\n"
      ],
      "metadata": {
        "id": "ob0ZIb6AmElI"
      },
      "execution_count": null,
      "outputs": []
    },
    {
      "cell_type": "markdown",
      "source": [
        "<h2>To create embedding for user query</h2>"
      ],
      "metadata": {
        "id": "HA39bDH2k_s5"
      }
    },
    {
      "cell_type": "code",
      "source": [
        "# Function to convert a query text to an embedding\n",
        "def query_to_embedding(query_text):\n",
        "    # Convert the query text to an embedding with truncation to max length\n",
        "    inputs = tokenizer(query_text, return_tensors=\"pt\", max_length=512, truncation=True)\n",
        "    with torch.no_grad():\n",
        "        query_embedding = text_model(**inputs).last_hidden_state.mean(dim=1).squeeze().numpy()\n",
        "    # print(\"query embedding:\",query_embedding)\n",
        "    return query_embedding"
      ],
      "metadata": {
        "id": "KS2Khx7MlFIg"
      },
      "execution_count": 11,
      "outputs": []
    },
    {
      "cell_type": "markdown",
      "source": [
        "<h2>To retrieve only single image</h2>"
      ],
      "metadata": {
        "id": "_BZreFCdkUTV"
      }
    },
    {
      "cell_type": "code",
      "source": [
        "# Function to retrieve image based on user query\n",
        "def retrieve_image_from_text(query_text):\n",
        "    # Convert the query to a text vector\n",
        "    query_embedding = query_to_embedding(query_text)\n",
        "\n",
        "    # Search Faiss index for the closest matching text vector\n",
        "    D, I = index.search(query_embedding.reshape(1, -1), k=1)\n",
        "    closest_text_index = I[0][0]  # Get the index of the closest match\n",
        "\n",
        "    # Retrieve the filename, clean up any extra path components, and join with image_dir\n",
        "    closest_image_filename = os.path.basename(metadata[closest_text_index])  # Only get filename\n",
        "    closest_image_path = os.path.join(for_displaying_image, closest_image_filename).replace(\"\\\\\",\"/\")  # Full path in image_dir\n",
        "    print(\"image location:\",closest_image_path)\n",
        "    # Load and display the image\n",
        "    if os.path.exists(closest_image_path):\n",
        "        image = Image.open(closest_image_path)\n",
        "        display(image)\n",
        "    else:\n",
        "        print(f\"Image not found: {closest_image_path}\")"
      ],
      "metadata": {
        "id": "MnmQhIbhkYGF"
      },
      "execution_count": null,
      "outputs": []
    },
    {
      "cell_type": "markdown",
      "source": [
        "<h2>To give user input and check it with faiss vector database and retrieve top k similar images</h2>"
      ],
      "metadata": {
        "id": "oLO1eejSmOQP"
      }
    },
    {
      "cell_type": "code",
      "source": [
        "image_dir = '/content/drive/MyDrive/tell2design/trained_floorplan_images'\n",
        "\n",
        "# Initialize tokenizer and model for text embeddings\n",
        "tokenizer = AutoTokenizer.from_pretrained(\"sentence-transformers/all-MiniLM-L6-v2\")\n",
        "text_model = AutoModel.from_pretrained(\"sentence-transformers/all-MiniLM-L6-v2\")\n",
        "text_model.eval()\n",
        "\n",
        "# Load the Faiss index\n",
        "index = faiss.read_index(faiss_index_path)\n",
        "\n",
        "# Load the metadata (mapping of Faiss indices to image paths)\n",
        "# try:\n",
        "    # Attempt to load as a torch dictionary (common for dictionaries saved with torch.save)\n",
        "metadata = torch.load(metadata_path, map_location=\"cpu\")\n",
        "# except AttributeError:\n",
        "#     # Fallback to loading as a pickle if the above fails\n",
        "#     with open(metadata_path, \"rb\") as f:\n",
        "#         metadata = pickle.load(f)\n",
        "\n",
        "def retrieve_top_images_from_text(query_text, k=3):\n",
        "    # Convert the query to a text vector\n",
        "    query_embedding = query_to_embedding(query_text)\n",
        "\n",
        "    # Search Faiss index for the closest k matching text vectors\n",
        "    D, I = index.search(query_embedding.reshape(1, -1), k=k)\n",
        "\n",
        "    for rank in range(k):\n",
        "        closest_text_index = I[0][rank]  # Get the index of the current closest match\n",
        "        distance = D[0][rank]  # Get the corresponding distance score\n",
        "\n",
        "        # Retrieve the filename and construct the full path\n",
        "        closest_image_filename = os.path.basename(metadata[closest_text_index])  # Only get filename\n",
        "        closest_image_path = os.path.join(for_displaying_image, closest_image_filename).replace(\"\\\\\", \"/\")\n",
        "        print(f\"Rank {rank + 1}: Image Location: {closest_image_path}, Distance: {distance}\")\n",
        "\n",
        "        # Load and display the image along with its score\n",
        "        if os.path.exists(closest_image_path):\n",
        "            image = Image.open(closest_image_path)\n",
        "            display(image)  # Display the image inline\n",
        "        else:\n",
        "            print(f\"Image not found: {closest_image_path}\")\n",
        "\n",
        "# Example usage\n",
        "query = \"I want a living room at the northwest corner with a balcony in the south.\"\n",
        "query1 = \"The balcony is at the north corner. near common room2 and master room. 10x6 sq ft. The bathroom is at the east and south middle of the corner. between kitchen and living room. 10x6 sq ft. Common room 1 is at the west and north middle corner. between living room and common room 2. 10x10 sq ft. Common room 2 is at the north center corner. between common room1 and master room. 10x10 sq ft. The kitchen is at the south middle  corner. between living room and bathroom. 10x8 sq ft. living room is center position. east face. 10x16 sq ft. The master room is at the north and east middle corner. between balcony and storage. 10x14 sq ft. The storage room is at the east corner. between master room and living room. 10x8 sq ft. \"\n",
        "q3=\"The bathroom is located on the east side, It is next to living and kitchen, The size of the room is 4 feet width  and 5  feet length The common room is located on the south west corner, It is next to living and master , The size of the room is 10  feet width  and 10  feet length The kitchen is located on the north east corner, It is next to living and bath, The size of the room is 7 feet width  and  8 feet length The living room is located on the north side, It is in front of all other rooms, The size of the room is 12   feet width  and  27  feet length The master room is located on the south side, It is next to living and near to common,The size of the room is 10  feet width  and  11  feet length The storage room is located on the east side,it is inside southeast corner of kitchen,The size of the room is 2  feet width  and 2  feet length \"\n",
        "retrieve_top_images_from_text(query1)"
      ],
      "metadata": {
        "colab": {
          "base_uri": "https://localhost:8080/",
          "height": 927
        },
        "id": "7UwnPnVyKWVW",
        "outputId": "e8fa4457-28e7-4145-956b-195a47b14b09"
      },
      "execution_count": 16,
      "outputs": [
        {
          "output_type": "stream",
          "name": "stderr",
          "text": [
            "/usr/local/lib/python3.10/dist-packages/transformers/tokenization_utils_base.py:1601: FutureWarning: `clean_up_tokenization_spaces` was not set. It will be set to `True` by default. This behavior will be depracted in transformers v4.45, and will be then set to `False` by default. For more details check this issue: https://github.com/huggingface/transformers/issues/31884\n",
            "  warnings.warn(\n",
            "<ipython-input-16-be94821aefad>:14: FutureWarning: You are using `torch.load` with `weights_only=False` (the current default value), which uses the default pickle module implicitly. It is possible to construct malicious pickle data which will execute arbitrary code during unpickling (See https://github.com/pytorch/pytorch/blob/main/SECURITY.md#untrusted-models for more details). In a future release, the default value for `weights_only` will be flipped to `True`. This limits the functions that could be executed during unpickling. Arbitrary objects will no longer be allowed to be loaded via this mode unless they are explicitly allowlisted by the user via `torch.serialization.add_safe_globals`. We recommend you start setting `weights_only=True` for any use case where you don't have full control of the loaded file. Please open an issue on GitHub for any issues related to this experimental feature.\n",
            "  metadata = torch.load(metadata_path, map_location=\"cpu\")\n"
          ]
        },
        {
          "output_type": "stream",
          "name": "stdout",
          "text": [
            "Rank 1: Image Location: /content/drive/MyDrive/tell2design/trained_floorplan_images/20.png, Distance: 5.725908028969551e-13\n"
          ]
        },
        {
          "output_type": "display_data",
          "data": {
            "text/plain": [
              "<PIL.PngImagePlugin.PngImageFile image mode=RGB size=256x256>"
            ],
            "image/png": "[encoded data removed]",
            "image/jpeg": "[encoded data removed]"
          },
          "metadata": {}
        },
        {
          "output_type": "stream",
          "name": "stdout",
          "text": [
            "Rank 2: Image Location: /content/drive/MyDrive/tell2design/trained_floorplan_images/38759.png, Distance: 0.07837152481079102\n"
          ]
        },
        {
          "output_type": "display_data",
          "data": {
            "text/plain": [
              "<PIL.PngImagePlugin.PngImageFile image mode=RGB size=256x256>"
            ],
            "image/png": "[encoded data removed]",
            "image/jpeg": "[encoded data removed]"
          },
          "metadata": {}
        },
        {
          "output_type": "stream",
          "name": "stdout",
          "text": [
            "Rank 3: Image Location: /content/drive/MyDrive/tell2design/trained_floorplan_images/48868.png, Distance: 0.16867227852344513\n"
          ]
        },
        {
          "output_type": "display_data",
          "data": {
            "text/plain": [
              "<PIL.PngImagePlugin.PngImageFile image mode=RGB size=256x256>"
            ],
            "image/png": "[encoded data removed]",
            "image/jpeg": "[encoded data removed]"
          },
          "metadata": {}
        }
      ]
    }
  ]
}