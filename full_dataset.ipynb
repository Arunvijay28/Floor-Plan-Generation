{
  "nbformat": 4,
  "nbformat_minor": 0,
  "metadata": {
    "colab": {
      "provenance": []
    },
    "kernelspec": {
      "name": "python3",
      "display_name": "Python 3"
    },
    "language_info": {
      "name": "python"
    }
  },
  "cells": [
    {
      "cell_type": "code",
      "execution_count": 1,
      "metadata": {
        "colab": {
          "base_uri": "https://localhost:8080/"
        },
        "id": "DkCKJDQkWTa2",
        "outputId": "f2054fa2-d81f-4653-e177-e6ef9cc1216d"
      },
      "outputs": [
        {
          "output_type": "stream",
          "name": "stdout",
          "text": [
            "Collecting faiss-cpu\n",
            "  Downloading faiss_cpu-1.9.0-cp310-cp310-manylinux_2_17_x86_64.manylinux2014_x86_64.whl.metadata (4.4 kB)\n",
            "Requirement already satisfied: transformers in /usr/local/lib/python3.10/dist-packages (4.44.2)\n",
            "Requirement already satisfied: torch in /usr/local/lib/python3.10/dist-packages (2.5.0+cu121)\n",
            "Requirement already satisfied: torchvision in /usr/local/lib/python3.10/dist-packages (0.20.0+cu121)\n",
            "Requirement already satisfied: numpy<3.0,>=1.25.0 in /usr/local/lib/python3.10/dist-packages (from faiss-cpu) (1.26.4)\n",
            "Requirement already satisfied: packaging in /usr/local/lib/python3.10/dist-packages (from faiss-cpu) (24.1)\n",
            "Requirement already satisfied: filelock in /usr/local/lib/python3.10/dist-packages (from transformers) (3.16.1)\n",
            "Requirement already satisfied: huggingface-hub<1.0,>=0.23.2 in /usr/local/lib/python3.10/dist-packages (from transformers) (0.24.7)\n",
            "Requirement already satisfied: pyyaml>=5.1 in /usr/local/lib/python3.10/dist-packages (from transformers) (6.0.2)\n",
            "Requirement already satisfied: regex!=2019.12.17 in /usr/local/lib/python3.10/dist-packages (from transformers) (2024.9.11)\n",
            "Requirement already satisfied: requests in /usr/local/lib/python3.10/dist-packages (from transformers) (2.32.3)\n",
            "Requirement already satisfied: safetensors>=0.4.1 in /usr/local/lib/python3.10/dist-packages (from transformers) (0.4.5)\n",
            "Requirement already satisfied: tokenizers<0.20,>=0.19 in /usr/local/lib/python3.10/dist-packages (from transformers) (0.19.1)\n",
            "Requirement already satisfied: tqdm>=4.27 in /usr/local/lib/python3.10/dist-packages (from transformers) (4.66.6)\n",
            "Requirement already satisfied: typing-extensions>=4.8.0 in /usr/local/lib/python3.10/dist-packages (from torch) (4.12.2)\n",
            "Requirement already satisfied: networkx in /usr/local/lib/python3.10/dist-packages (from torch) (3.4.2)\n",
            "Requirement already satisfied: jinja2 in /usr/local/lib/python3.10/dist-packages (from torch) (3.1.4)\n",
            "Requirement already satisfied: fsspec in /usr/local/lib/python3.10/dist-packages (from torch) (2024.10.0)\n",
            "Requirement already satisfied: sympy==1.13.1 in /usr/local/lib/python3.10/dist-packages (from torch) (1.13.1)\n",
            "Requirement already satisfied: mpmath<1.4,>=1.1.0 in /usr/local/lib/python3.10/dist-packages (from sympy==1.13.1->torch) (1.3.0)\n",
            "Requirement already satisfied: pillow!=8.3.*,>=5.3.0 in /usr/local/lib/python3.10/dist-packages (from torchvision) (10.4.0)\n",
            "Requirement already satisfied: MarkupSafe>=2.0 in /usr/local/lib/python3.10/dist-packages (from jinja2->torch) (3.0.2)\n",
            "Requirement already satisfied: charset-normalizer<4,>=2 in /usr/local/lib/python3.10/dist-packages (from requests->transformers) (3.4.0)\n",
            "Requirement already satisfied: idna<4,>=2.5 in /usr/local/lib/python3.10/dist-packages (from requests->transformers) (3.10)\n",
            "Requirement already satisfied: urllib3<3,>=1.21.1 in /usr/local/lib/python3.10/dist-packages (from requests->transformers) (2.2.3)\n",
            "Requirement already satisfied: certifi>=2017.4.17 in /usr/local/lib/python3.10/dist-packages (from requests->transformers) (2024.8.30)\n",
            "Downloading faiss_cpu-1.9.0-cp310-cp310-manylinux_2_17_x86_64.manylinux2014_x86_64.whl (27.5 MB)\n",
            "\u001b[2K   \u001b[90m━━━━━━━━━━━━━━━━━━━━━━━━━━━━━━━━━━━━━━━━\u001b[0m \u001b[32m27.5/27.5 MB\u001b[0m \u001b[31m43.6 MB/s\u001b[0m eta \u001b[36m0:00:00\u001b[0m\n",
            "\u001b[?25hInstalling collected packages: faiss-cpu\n",
            "Successfully installed faiss-cpu-1.9.0\n"
          ]
        }
      ],
      "source": [
        "pip install faiss-cpu transformers torch torchvision\n"
      ]
    },
    {
      "cell_type": "code",
      "source": [
        "from google.colab import drive\n",
        "drive.mount('/content/drive')"
      ],
      "metadata": {
        "colab": {
          "base_uri": "https://localhost:8080/"
        },
        "id": "2Oh44GKzWatu",
        "outputId": "faa1526f-ae14-417a-d655-1a3a5698a5d3"
      },
      "execution_count": 2,
      "outputs": [
        {
          "output_type": "stream",
          "name": "stdout",
          "text": [
            "Drive already mounted at /content/drive; to attempt to forcibly remount, call drive.mount(\"/content/drive\", force_remount=True).\n"
          ]
        }
      ]
    },
    {
      "cell_type": "code",
      "source": [
        "import faiss\n",
        "import torch\n",
        "import json\n",
        "import pandas as pd\n",
        "from transformers import AutoTokenizer, AutoModel\n",
        "from torchvision import models, transforms\n",
        "from PIL import Image\n",
        "import numpy as np\n",
        "import os\n",
        "import pickle\n",
        "from IPython.display import display"
      ],
      "metadata": {
        "id": "qOuN1D_LWqFA"
      },
      "execution_count": 3,
      "outputs": []
    },
    {
      "cell_type": "code",
      "source": [
        "image_dir='/content/drive/MyDrive/tell2design/floorplan_image'\n",
        "json_path='/content/drive/MyDrive/tell2design/json/descriptions_artificial.json'\n",
        "for_displaying_image='/content/drive/MyDrive/tell2design'"
      ],
      "metadata": {
        "id": "DUnkT_pyWwES"
      },
      "execution_count": 4,
      "outputs": []
    },
    {
      "cell_type": "code",
      "source": [
        "faiss_index_path = \"/content/drive/MyDrive/tell2design/model/floorplan_text_full_faiss.index\"\n",
        "metadata_path = \"/content/drive/MyDrive/tell2design/model/metadata_full.pth\""
      ],
      "metadata": {
        "id": "8MrGusb2W7bk"
      },
      "execution_count": 5,
      "outputs": []
    },
    {
      "cell_type": "code",
      "source": [
        "# Function to convert a query text to an embedding\n",
        "def query_to_embedding(query_text):\n",
        "    # Convert the query text to an embedding with truncation to max length\n",
        "    inputs = tokenizer(query_text, return_tensors=\"pt\", max_length=512, truncation=True)\n",
        "    with torch.no_grad():\n",
        "        query_embedding = text_model(**inputs).last_hidden_state.mean(dim=1).squeeze().numpy()\n",
        "    # print(\"query embedding:\",query_embedding)\n",
        "    return query_embedding"
      ],
      "metadata": {
        "id": "QwYkiVb7XSAM"
      },
      "execution_count": 6,
      "outputs": []
    },
    {
      "cell_type": "code",
      "source": [
        "image_dir = '/content/drive/MyDrive/tell2design/trained_floorplan_images'\n",
        "\n",
        "# Initialize tokenizer and model for text embeddings\n",
        "tokenizer = AutoTokenizer.from_pretrained(\"sentence-transformers/all-MiniLM-L6-v2\")\n",
        "text_model = AutoModel.from_pretrained(\"sentence-transformers/all-MiniLM-L6-v2\")\n",
        "text_model.eval()\n",
        "\n",
        "# Load the Faiss index\n",
        "index = faiss.read_index(faiss_index_path)\n",
        "\n",
        "# Load the metadata (mapping of Faiss indices to image paths)\n",
        "# try:\n",
        "    # Attempt to load as a torch dictionary (common for dictionaries saved with torch.save)\n",
        "metadata = torch.load(metadata_path, map_location=\"cpu\")\n",
        "# except AttributeError:\n",
        "#     # Fallback to loading as a pickle if the above fails\n",
        "#     with open(metadata_path, \"rb\") as f:\n",
        "#         metadata = pickle.load(f)\n",
        "\n",
        "def retrieve_top_images_from_text(query_text, k=3):\n",
        "    # Convert the query to a text vector\n",
        "    query_embedding = query_to_embedding(query_text)\n",
        "\n",
        "    # Search Faiss index for the closest k matching text vectors\n",
        "    D, I = index.search(query_embedding.reshape(1, -1), k=k)\n",
        "\n",
        "    for rank in range(k):\n",
        "        closest_text_index = I[0][rank]  # Get the index of the current closest match\n",
        "        distance = D[0][rank]  # Get the corresponding distance score\n",
        "\n",
        "        # Retrieve the filename and construct the full path\n",
        "        closest_image_filename = os.path.basename(metadata[closest_text_index])  # Only get filename\n",
        "        closest_image_path = os.path.join(for_displaying_image, closest_image_filename).replace(\"\\\\\", \"/\")\n",
        "        print(f\"Rank {rank + 1}: Image Location: {closest_image_path}, Distance: {distance}\")\n",
        "\n",
        "        # Load and display the image along with its score\n",
        "        if os.path.exists(closest_image_path):\n",
        "            image = Image.open(closest_image_path)\n",
        "            display(image)  # Display the image inline\n",
        "        else:\n",
        "            print(f\"Image not found: {closest_image_path}\")\n",
        "\n",
        "# Example usage\n",
        "query = \"I want a living room at the northwest corner with a balcony in the south.\"\n",
        "query1 = \"The balcony is at the north corner. near common room2 and master room. 10x6 sq ft. The bathroom is at the east and south middle of the corner. between kitchen and living room. 10x6 sq ft. Common room 1 is at the west and north middle corner. between living room and common room 2. 10x10 sq ft. Common room 2 is at the north center corner. between common room1 and master room. 10x10 sq ft. The kitchen is at the south middle  corner. between living room and bathroom. 10x8 sq ft. living room is center position. east face. 10x16 sq ft. The master room is at the north and east middle corner. between balcony and storage. 10x14 sq ft. The storage room is at the east corner. between master room and living room. 10x8 sq ft. \"\n",
        "query3=\"The bathroom is located on the east side, It is next to living and kitchen, The size of the room is 4 feet width  and 5  feet length The common room is located on the south west corner, It is next to living and master , The size of the room is 10  feet width  and 10  feet length The kitchen is located on the north east corner, It is next to living and bath, The size of the room is 7 feet width  and  8 feet length The living room is located on the north side, It is in front of all other rooms, The size of the room is 12   feet width  and  27  feet length The master room is located on the south side, It is next to living and near to common,The size of the room is 10  feet width  and  11  feet length The storage room is located on the east side,it is inside southeast corner of kitchen,The size of the room is 2  feet width  and 2  feet length \"\n",
        "query4=\"It would be good to have a common room . I would like to place common room at the north side of the apartment. The common room should be around 200 sqft with the aspect ratio of 3 over 4. The common room should have an en-suite bathroom. The common room should be next to the bathroom, kitchen, balcony. The bathroom should be considered. Place bathroom at the south side of the apartment. Make bathroom around 50 sqft with the aspect ratio of 7 over 8. The bathroom can be used by guest. The bathroom connects to the common room, master room, living room. Make a kitchen . The kitchen should be at the south side of the apartment. Make kitchen approx 50 sqft with the aspect ratio of 7 over 4. The kitchen attaches to the common room, balcony, master room, living room. Can you make a balcony ? I would like to place balcony at the south side of the apartment. Can you make balcony around 50 sqft with the aspect ratio of 5 over 2? The balcony is private. The balcony connects to the common room, kitchen, master room. The master room should be considered. The master room should be at the south side of the apartment. Make master room approx 150 sqft with the aspect ratio of 4 over 5. The master room should have an en-suite bathroom. The master room should be next to the bathroom, kitchen, balcony. It would be great to have a living room . Make living room around 650 sqft with the aspect ratio of 1 over 2.\"\n",
        "retrieve_top_images_from_text(query4)"
      ],
      "metadata": {
        "colab": {
          "base_uri": "https://localhost:8080/",
          "height": 927
        },
        "id": "ui-SdTl_Xexg",
        "outputId": "891f2400-9541-4a10-daee-18982a563742"
      },
      "execution_count": 10,
      "outputs": [
        {
          "output_type": "stream",
          "name": "stderr",
          "text": [
            "/usr/local/lib/python3.10/dist-packages/transformers/tokenization_utils_base.py:1601: FutureWarning: `clean_up_tokenization_spaces` was not set. It will be set to `True` by default. This behavior will be depracted in transformers v4.45, and will be then set to `False` by default. For more details check this issue: https://github.com/huggingface/transformers/issues/31884\n",
            "  warnings.warn(\n",
            "<ipython-input-10-1775efcb0376>:14: FutureWarning: You are using `torch.load` with `weights_only=False` (the current default value), which uses the default pickle module implicitly. It is possible to construct malicious pickle data which will execute arbitrary code during unpickling (See https://github.com/pytorch/pytorch/blob/main/SECURITY.md#untrusted-models for more details). In a future release, the default value for `weights_only` will be flipped to `True`. This limits the functions that could be executed during unpickling. Arbitrary objects will no longer be allowed to be loaded via this mode unless they are explicitly allowlisted by the user via `torch.serialization.add_safe_globals`. We recommend you start setting `weights_only=True` for any use case where you don't have full control of the loaded file. Please open an issue on GitHub for any issues related to this experimental feature.\n",
            "  metadata = torch.load(metadata_path, map_location=\"cpu\")\n"
          ]
        },
        {
          "output_type": "stream",
          "name": "stdout",
          "text": [
            "Rank 1: Image Location: /content/drive/MyDrive/tell2design/floorplan_image/16381.png, Distance: 6.289924635825839e-13\n"
          ]
        },
        {
          "output_type": "display_data",
          "data": {
            "text/plain": [
              "<PIL.PngImagePlugin.PngImageFile image mode=RGB size=256x256>"
            ],
            "image/png": "[encoded data removed]",
            "image/jpeg": "[encoded data removed]"
          },
          "metadata": {}
        },
        {
          "output_type": "stream",
          "name": "stdout",
          "text": [
            "Rank 2: Image Location: /content/drive/MyDrive/tell2design/floorplan_image/21160.png, Distance: 0.23833566904067993\n"
          ]
        },
        {
          "output_type": "display_data",
          "data": {
            "text/plain": [
              "<PIL.PngImagePlugin.PngImageFile image mode=RGB size=256x256>"
            ],
            "image/png": "[encoded data removed]",
            "image/jpeg": "[encoded data removed]"
          },
          "metadata": {}
        },
        {
          "output_type": "stream",
          "name": "stdout",
          "text": [
            "Rank 3: Image Location: /content/drive/MyDrive/tell2design/floorplan_image/73614.png, Distance: 0.2427816540002823\n"
          ]
        },
        {
          "output_type": "display_data",
          "data": {
            "text/plain": [
              "<PIL.PngImagePlugin.PngImageFile image mode=RGB size=256x256>"
            ],
            "image/png": "[encoded data removed]",
            "image/jpeg": "[encoded data removed]"
          },
          "metadata": {}
        }
      ]
    }
  ]
}